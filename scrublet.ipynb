{
 "cells": [
  {
   "cell_type": "code",
   "execution_count": 1,
   "metadata": {},
   "outputs": [
    {
     "name": "stdout",
     "output_type": "stream",
     "text": [
      "ends\n"
     ]
    }
   ],
   "source": [
    "%matplotlib inline\n",
    "import scrublet as scr\n",
    "import scipy.io\n",
    "import matplotlib.pyplot as plt\n",
    "import numpy as np\n",
    "import os\n",
    "import pandas as pd\n",
    "import csv\n",
    "print('ends')"
   ]
  },
  {
   "cell_type": "code",
   "execution_count": 2,
   "metadata": {},
   "outputs": [],
   "source": [
    "plt.rcParams['font.family'] = 'sans-serif'\n",
    "plt.rcParams['font.sans-serif'] = 'Arial'\n",
    "plt.rc('font', size=14)\n",
    "plt.rcParams['pdf.fonttype'] = 42"
   ]
  },
  {
   "cell_type": "code",
   "execution_count": 3,
   "metadata": {},
   "outputs": [],
   "source": [
    "#import sys\n",
    "#sys.path\n",
    "#sys.modules.keys()\n",
    "#dir(scr.Scrublet)\n",
    "#help(\"modules\") 万一不行强制重启"
   ]
  },
  {
   "cell_type": "code",
   "execution_count": 4,
   "metadata": {},
   "outputs": [],
   "source": [
    "#import re\n",
    "#for i in sys.modules.keys():\n",
    "#    value = sys.modules[i]\n",
    "#    if re.search(\"scrublet\",i):\n",
    "#        print(i,value)"
   ]
  },
  {
   "cell_type": "code",
   "execution_count": 41,
   "metadata": {},
   "outputs": [
    {
     "name": "stdout",
     "output_type": "stream",
     "text": [
      "/data/jinwf/wangxf/jupyter_notebook/Python/Scrublet/Cov19/Mock/\n",
      "/data/jinwf/wangxf/jupyter_notebook/Python/Scrublet/Cov19/Mock/Mock_filteredMatrix.csv\n"
     ]
    }
   ],
   "source": [
    "current_path = %pwd\n",
    "i=2\n",
    "sampleset = [\"Alpha\",\"Lambda\",\"Mock\"]\n",
    "sample=sampleset[i]\n",
    "path = [current_path, sampleset[i],\"\"]\n",
    "a=\"/\"\n",
    "path=a.join(path)\n",
    "print(path) \n",
    "file = [path,sampleset[i],\"_filteredMatrix.csv\"]\n",
    "b = ''\n",
    "file = b.join(file)\n",
    "print(file)"
   ]
  },
  {
   "cell_type": "code",
   "execution_count": 42,
   "metadata": {},
   "outputs": [
    {
     "name": "stdout",
     "output_type": "stream",
     "text": [
      "123\n",
      "Counts matrix shape: 10404 rows, 31054 columns\n"
     ]
    }
   ],
   "source": [
    "counts_matrix=pd.read_csv(file)\n",
    "print(\"123\")\n",
    "print('Counts matrix shape: {} rows, {} columns'.format(counts_matrix.shape[0], counts_matrix.shape[1]))"
   ]
  },
  {
   "cell_type": "code",
   "execution_count": 43,
   "metadata": {},
   "outputs": [
    {
     "name": "stdout",
     "output_type": "stream",
     "text": [
      "<class 'pandas.core.frame.DataFrame'>\n"
     ]
    }
   ],
   "source": [
    "print(type(counts_matrix))"
   ]
  },
  {
   "cell_type": "code",
   "execution_count": 44,
   "metadata": {},
   "outputs": [
    {
     "name": "stdout",
     "output_type": "stream",
     "text": [
      "<class 'str'>\n"
     ]
    }
   ],
   "source": [
    "print(type(counts_matrix.iloc[0,0]))"
   ]
  },
  {
   "cell_type": "code",
   "execution_count": 45,
   "metadata": {},
   "outputs": [
    {
     "data": {
      "text/html": [
       "<div>\n",
       "<style scoped>\n",
       "    .dataframe tbody tr th:only-of-type {\n",
       "        vertical-align: middle;\n",
       "    }\n",
       "\n",
       "    .dataframe tbody tr th {\n",
       "        vertical-align: top;\n",
       "    }\n",
       "\n",
       "    .dataframe thead th {\n",
       "        text-align: right;\n",
       "    }\n",
       "</style>\n",
       "<table border=\"1\" class=\"dataframe\">\n",
       "  <thead>\n",
       "    <tr style=\"text-align: right;\">\n",
       "      <th></th>\n",
       "      <th>Unnamed: 0</th>\n",
       "      <th>Xkr4</th>\n",
       "      <th>Gm1992</th>\n",
       "    </tr>\n",
       "  </thead>\n",
       "  <tbody>\n",
       "    <tr>\n",
       "      <th>0</th>\n",
       "      <td>Mock_AAACCCAAGATTTGCC-1</td>\n",
       "      <td>0</td>\n",
       "      <td>0</td>\n",
       "    </tr>\n",
       "    <tr>\n",
       "      <th>1</th>\n",
       "      <td>Mock_AAACCCAAGGCGTTGA-1</td>\n",
       "      <td>0</td>\n",
       "      <td>0</td>\n",
       "    </tr>\n",
       "    <tr>\n",
       "      <th>2</th>\n",
       "      <td>Mock_AAACCCAAGTACTGTC-1</td>\n",
       "      <td>0</td>\n",
       "      <td>0</td>\n",
       "    </tr>\n",
       "  </tbody>\n",
       "</table>\n",
       "</div>"
      ],
      "text/plain": [
       "                Unnamed: 0  Xkr4  Gm1992\n",
       "0  Mock_AAACCCAAGATTTGCC-1     0       0\n",
       "1  Mock_AAACCCAAGGCGTTGA-1     0       0\n",
       "2  Mock_AAACCCAAGTACTGTC-1     0       0"
      ]
     },
     "execution_count": 45,
     "metadata": {},
     "output_type": "execute_result"
    }
   ],
   "source": [
    "counts_matrix.iloc[0:3,0:3]"
   ]
  },
  {
   "cell_type": "code",
   "execution_count": 46,
   "metadata": {},
   "outputs": [],
   "source": [
    "cellNames=counts_matrix.iloc[:,0]"
   ]
  },
  {
   "cell_type": "code",
   "execution_count": 47,
   "metadata": {},
   "outputs": [
    {
     "name": "stdout",
     "output_type": "stream",
     "text": [
      "<class 'pandas.core.series.Series'>\n",
      "0    Mock_AAACCCAAGATTTGCC-1\n",
      "1    Mock_AAACCCAAGGCGTTGA-1\n",
      "2    Mock_AAACCCAAGTACTGTC-1\n",
      "3    Mock_AAACCCAAGTGGAATT-1\n",
      "4    Mock_AAACCCACAACAGCTT-1\n",
      "Name: Unnamed: 0, dtype: object\n",
      "(10404,)\n"
     ]
    }
   ],
   "source": [
    "print(type(cellNames))\n",
    "print(cellNames.iloc[0:5,])\n",
    "print(cellNames.shape)"
   ]
  },
  {
   "cell_type": "code",
   "execution_count": 48,
   "metadata": {},
   "outputs": [],
   "source": [
    "del counts_matrix[\"Unnamed: 0\"]"
   ]
  },
  {
   "cell_type": "code",
   "execution_count": 49,
   "metadata": {},
   "outputs": [
    {
     "name": "stdout",
     "output_type": "stream",
     "text": [
      "Counts matrix shape: 10404 rows, 31053 columns\n"
     ]
    }
   ],
   "source": [
    "print('Counts matrix shape: {} rows, {} columns'.format(counts_matrix.shape[0], counts_matrix.shape[1]))"
   ]
  },
  {
   "cell_type": "code",
   "execution_count": 50,
   "metadata": {},
   "outputs": [
    {
     "data": {
      "text/plain": [
       "0    Mock_AAACCCAAGATTTGCC-1\n",
       "1    Mock_AAACCCAAGGCGTTGA-1\n",
       "2    Mock_AAACCCAAGTACTGTC-1\n",
       "3    Mock_AAACCCAAGTGGAATT-1\n",
       "4    Mock_AAACCCACAACAGCTT-1\n",
       "5    Mock_AAACCCACAAGAGAGA-1\n",
       "6    Mock_AAACCCACAAGAGCTG-1\n",
       "7    Mock_AAACCCACAATTGAAG-1\n",
       "8    Mock_AAACCCACACCTCGTT-1\n",
       "9    Mock_AAACCCACATCTGCGG-1\n",
       "Name: Unnamed: 0, dtype: object"
      ]
     },
     "execution_count": 50,
     "metadata": {},
     "output_type": "execute_result"
    }
   ],
   "source": [
    "cellNames[0:10]"
   ]
  },
  {
   "cell_type": "code",
   "execution_count": 51,
   "metadata": {},
   "outputs": [
    {
     "data": {
      "text/html": [
       "<div>\n",
       "<style scoped>\n",
       "    .dataframe tbody tr th:only-of-type {\n",
       "        vertical-align: middle;\n",
       "    }\n",
       "\n",
       "    .dataframe tbody tr th {\n",
       "        vertical-align: top;\n",
       "    }\n",
       "\n",
       "    .dataframe thead th {\n",
       "        text-align: right;\n",
       "    }\n",
       "</style>\n",
       "<table border=\"1\" class=\"dataframe\">\n",
       "  <thead>\n",
       "    <tr style=\"text-align: right;\">\n",
       "      <th></th>\n",
       "      <th>Xkr4</th>\n",
       "      <th>Gm1992</th>\n",
       "      <th>Gm37381</th>\n",
       "      <th>Rp1</th>\n",
       "      <th>Sox17</th>\n",
       "    </tr>\n",
       "  </thead>\n",
       "  <tbody>\n",
       "    <tr>\n",
       "      <th>0</th>\n",
       "      <td>0</td>\n",
       "      <td>0</td>\n",
       "      <td>0</td>\n",
       "      <td>0</td>\n",
       "      <td>0</td>\n",
       "    </tr>\n",
       "    <tr>\n",
       "      <th>1</th>\n",
       "      <td>0</td>\n",
       "      <td>0</td>\n",
       "      <td>0</td>\n",
       "      <td>0</td>\n",
       "      <td>0</td>\n",
       "    </tr>\n",
       "    <tr>\n",
       "      <th>2</th>\n",
       "      <td>0</td>\n",
       "      <td>0</td>\n",
       "      <td>0</td>\n",
       "      <td>0</td>\n",
       "      <td>0</td>\n",
       "    </tr>\n",
       "    <tr>\n",
       "      <th>3</th>\n",
       "      <td>0</td>\n",
       "      <td>0</td>\n",
       "      <td>0</td>\n",
       "      <td>0</td>\n",
       "      <td>0</td>\n",
       "    </tr>\n",
       "    <tr>\n",
       "      <th>4</th>\n",
       "      <td>0</td>\n",
       "      <td>0</td>\n",
       "      <td>0</td>\n",
       "      <td>0</td>\n",
       "      <td>0</td>\n",
       "    </tr>\n",
       "  </tbody>\n",
       "</table>\n",
       "</div>"
      ],
      "text/plain": [
       "   Xkr4  Gm1992  Gm37381  Rp1  Sox17\n",
       "0     0       0        0    0      0\n",
       "1     0       0        0    0      0\n",
       "2     0       0        0    0      0\n",
       "3     0       0        0    0      0\n",
       "4     0       0        0    0      0"
      ]
     },
     "execution_count": 51,
     "metadata": {},
     "output_type": "execute_result"
    }
   ],
   "source": [
    "counts_matrix.iloc[0:5,0:5]"
   ]
  },
  {
   "cell_type": "code",
   "execution_count": 52,
   "metadata": {},
   "outputs": [
    {
     "name": "stdout",
     "output_type": "stream",
     "text": [
      "<class 'numpy.int64'>\n"
     ]
    }
   ],
   "source": [
    "print(type(counts_matrix.iloc[0,0]))"
   ]
  },
  {
   "cell_type": "code",
   "execution_count": 53,
   "metadata": {},
   "outputs": [
    {
     "name": "stdout",
     "output_type": "stream",
     "text": [
      "Done.\n"
     ]
    }
   ],
   "source": [
    "scrub = scr.Scrublet(counts_matrix, expected_doublet_rate=0.08)\n",
    "print(\"Done.\")"
   ]
  },
  {
   "cell_type": "code",
   "execution_count": 54,
   "metadata": {},
   "outputs": [
    {
     "name": "stdout",
     "output_type": "stream",
     "text": [
      "Preprocessing...\n",
      "Simulating doublets...\n",
      "Embedding transcriptomes using PCA...\n",
      "Calculating doublet scores...\n",
      "Automatically set threshold at doublet score = 0.74\n",
      "Detected doublet rate = 0.0%\n",
      "Estimated detectable doublet fraction = 0.5%\n",
      "Overall doublet rate:\n",
      "\tExpected   = 8.0%\n",
      "\tEstimated  = 4.0%\n",
      "Elapsed time: 13.5 seconds\n",
      "Done.\n"
     ]
    }
   ],
   "source": [
    "doublet_scores, predicted_doublets = scrub.scrub_doublets(min_counts=2, \n",
    "                                                          min_cells=3, \n",
    "                                                          min_gene_variability_pctl=85, \n",
    "                                                          n_prin_comps=50)\n",
    "print(\"Done.\")"
   ]
  },
  {
   "cell_type": "code",
   "execution_count": 40,
   "metadata": {},
   "outputs": [
    {
     "data": {
      "image/png": "[encoded data removed]",
      "text/plain": [
       "<Figure size 576x216 with 2 Axes>"
      ]
     },
     "metadata": {
      "needs_background": "light"
     },
     "output_type": "display_data"
    }
   ],
   "source": [
    "scrub.plot_histogram();##默认的threshold"
   ]
  },
  {
   "cell_type": "markdown",
   "metadata": {},
   "source": [
    "##Alpha：total 11136 cells: 203 double cells,  expected_doublet_rate=0.08, Estimated  = 10.7% ，threshold=0.33 #默认阈值\n",
    "##Lambda：total 10776 cells: 0 double cells,  expected_doublet_rate=0.08, Estimated  = 5.8% ，threshold=0.68 #默认阈值\n",
    "##Mock：total 10404 cells: 0 double cells,  expected_doublet_rate=0.08, Estimated  = 4.0% ，threshold=0.74 #默认阈值"
   ]
  },
  {
   "cell_type": "markdown",
   "metadata": {},
   "source": [
    "若默认的阈值不合适，则采用以下三行命令自行设置阈值并得到doublet cells"
   ]
  },
  {
   "cell_type": "code",
   "execution_count": 51,
   "metadata": {},
   "outputs": [
    {
     "name": "stdout",
     "output_type": "stream",
     "text": [
      "Detected doublet rate = 0.3%\n",
      "Estimated detectable doublet fraction = 3.1%\n",
      "Overall doublet rate:\n",
      "\tExpected   = 5.0%\n",
      "\tEstimated  = 10.7%\n"
     ]
    }
   ],
   "source": [
    "predicted_doublets0 = scrub.call_doublets(threshold=0.35) "
   ]
  },
  {
   "cell_type": "code",
   "execution_count": 53,
   "metadata": {
    "scrolled": true
   },
   "outputs": [
    {
     "data": {
      "image/png": "[encoded data removed]",
      "text/plain": [
       "<Figure size 576x216 with 2 Axes>"
      ]
     },
     "metadata": {
      "needs_background": "light"
     },
     "output_type": "display_data"
    }
   ],
   "source": [
    "scrub.plot_histogram();##自己设置的threshold "
   ]
  },
  {
   "cell_type": "code",
   "execution_count": 36,
   "metadata": {},
   "outputs": [
    {
     "name": "stdout",
     "output_type": "stream",
     "text": [
      "11733\n",
      "[128, 178, 711, 1879, 2153, 2264, 2336, 3104, 4243, 4461]\n",
      "doublet cell:  39\n"
     ]
    }
   ],
   "source": [
    "print(len(predicted_doublets0))\n",
    "douTrue = [i for i in range(len(predicted_doublets0)) if predicted_doublets0[i] == True]##调整threshold后预测的doublet\n",
    "print(douTrue[:10])\n",
    "print(\"doublet cell: \",len(douTrue))"
   ]
  },
  {
   "cell_type": "code",
   "execution_count": 20,
   "metadata": {},
   "outputs": [],
   "source": [
    "# print('Running UMAP...')\n",
    "# scrub.set_embedding('UMAP', scr.get_umap(scrub.manifold_obs_, 10, min_dist=0.3))\n",
    "\n",
    "# # # Uncomment to run tSNE - slow\n",
    "# # print('Running tSNE...')\n",
    "# # scrub.set_embedding('tSNE', scr.get_tsne(scrub.manifold_obs_, angle=0.9))\n",
    "\n",
    "# # # Uncomment to run force layout - slow\n",
    "# # print('Running ForceAtlas2...')\n",
    "# # scrub.set_embedding('FA', scr.get_force_layout(scrub.manifold_obs_, n_neighbors=5. n_iter=1000))\n",
    "    \n",
    "# print('Done.')"
   ]
  },
  {
   "cell_type": "code",
   "execution_count": 58,
   "metadata": {},
   "outputs": [],
   "source": [
    "# scrub.plot_embedding('UMAP', order_points=True);\n",
    "\n",
    "# scrub.plot_embedding('tSNE', order_points=True);\n",
    "# scrub.plot_embedding('FA', order_points=True);"
   ]
  },
  {
   "cell_type": "code",
   "execution_count": 21,
   "metadata": {},
   "outputs": [
    {
     "name": "stdout",
     "output_type": "stream",
     "text": [
      "11136\n",
      "[122, 165, 169, 231, 279, 304, 312, 367, 436, 458]\n",
      "doublet cell:  203\n"
     ]
    }
   ],
   "source": [
    "print(len(predicted_doublets))\n",
    "douTrue = [i for i in range(len(predicted_doublets)) if predicted_doublets[i] == True]##默认的threshold预测的doublet\n",
    "print(douTrue[:10])\n",
    "print(\"doublet cell: \",len(douTrue))"
   ]
  },
  {
   "cell_type": "code",
   "execution_count": 22,
   "metadata": {},
   "outputs": [],
   "source": [
    "douCell = cellNames[douTrue]"
   ]
  },
  {
   "cell_type": "code",
   "execution_count": 23,
   "metadata": {},
   "outputs": [
    {
     "data": {
      "text/plain": [
       "122    Alpha_AAAGTGACATAAGCGG-1\n",
       "165    Alpha_AACAAGAAGCTACTGT-1\n",
       "169    Alpha_AACAAGACATCGGAGA-1\n",
       "231    Alpha_AACCATGTCCCTCATG-1\n",
       "279    Alpha_AACGAAACAATGGCAG-1\n",
       "304    Alpha_AACGTCAGTTAAGGGC-1\n",
       "312    Alpha_AACTTCTTCCCGGTAG-1\n",
       "367    Alpha_AAGCATCGTTGACTAC-1\n",
       "436    Alpha_AAGGTAATCCACACCT-1\n",
       "458    Alpha_AAGTCGTCAGAGTGAC-1\n",
       "Name: Unnamed: 0, dtype: object"
      ]
     },
     "execution_count": 23,
     "metadata": {},
     "output_type": "execute_result"
    }
   ],
   "source": [
    "douCell[:10]"
   ]
  },
  {
   "cell_type": "code",
   "execution_count": 24,
   "metadata": {},
   "outputs": [
    {
     "name": "stdout",
     "output_type": "stream",
     "text": [
      "/data/jinwf/wangxf/jupyter_notebook/Python/Scrublet/Cov19/Alpha/Alpha_double_cell_name\n"
     ]
    }
   ],
   "source": [
    "double_cell_name = [sample,\"double_cell_name\"]\n",
    "c = \"_\"\n",
    "double_cell_name = c.join(double_cell_name)\n",
    "double_cell_name = [path,double_cell_name]\n",
    "double_cell_name = b.join(double_cell_name)\n",
    "print(double_cell_name)\n",
    "with open(double_cell_name,\"w\") as f:\n",
    "    for v in douCell:\n",
    "        f.write(\"%s\\n\"%v)"
   ]
  },
  {
   "cell_type": "code",
   "execution_count": 25,
   "metadata": {},
   "outputs": [
    {
     "name": "stdout",
     "output_type": "stream",
     "text": [
      "/data/jinwf/wangxf/jupyter_notebook/Python/Scrublet/Cov19/Alpha/Alpha_double_cell_scores\n"
     ]
    }
   ],
   "source": [
    "double_cell_scores = [sample,\"double_cell_scores\"]\n",
    "c = \"_\"\n",
    "double_cell_scores = c.join(double_cell_scores)\n",
    "double_cell_scores = [path,double_cell_scores]\n",
    "double_cell_scores = b.join(double_cell_scores)\n",
    "print(double_cell_scores)\n",
    "with open(double_cell_scores,\"w\") as f:\n",
    "    for v in doublet_scores:\n",
    "        f.write(\"%s\\n\"%v)"
   ]
  },
  {
   "cell_type": "code",
   "execution_count": null,
   "metadata": {},
   "outputs": [],
   "source": []
  }
 ],
 "metadata": {
  "kernelspec": {
   "display_name": "Python 3",
   "language": "python",
   "name": "python3"
  },
  "language_info": {
   "codemirror_mode": {
    "name": "ipython",
    "version": 3
   },
   "file_extension": ".py",
   "mimetype": "text/x-python",
   "name": "python",
   "nbconvert_exporter": "python",
   "pygments_lexer": "ipython3",
   "version": "3.8.2"
  },
  "toc": {
   "base_numbering": 1,
   "nav_menu": {},
   "number_sections": true,
   "sideBar": true,
   "skip_h1_title": false,
   "title_cell": "Table of Contents",
   "title_sidebar": "Contents",
   "toc_cell": false,
   "toc_position": {},
   "toc_section_display": true,
   "toc_window_display": false
  }
 },
 "nbformat": 4,
 "nbformat_minor": 2
}
